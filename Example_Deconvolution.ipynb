{
 "cells": [
  {
   "cell_type": "code",
   "execution_count": 1,
   "id": "df010598-3c53-48b8-ab9e-25ba4db2bceb",
   "metadata": {},
   "outputs": [],
   "source": [
    "import itertools\n",
    "import skimage\n",
    "import tifffile as tf\n",
    "import json\n",
    "import os\n",
    "import time\n",
    "import numpy as np\n",
    "import util.inputoutput as io\n",
    "from psf.psf import PSF\n",
    "from util.deconvolution import Deconvolution\n",
    "\n",
    "from util.helper import convert_to_uint, convert_to_float, plot_data\n",
    "from matplotlib import pyplot as plt\n",
    "\n",
    "from pathlib import Path"
   ]
  },
  {
   "cell_type": "markdown",
   "id": "704cd1fa-8653-4f0e-9b2e-7a36d99c492d",
   "metadata": {},
   "source": [
    "# Read in Image"
   ]
  },
  {
   "cell_type": "code",
   "execution_count": 18,
   "id": "0285fbef-75a2-4d0a-93fe-b9fe3e3e74b4",
   "metadata": {},
   "outputs": [
    {
     "name": "stdout",
     "output_type": "stream",
     "text": [
      "/Users/lwoelk/PycharmProjects/TDImageRestoration/data/211209_NFAT-DAPI_basal_BSA_1_w1CF-488.tif\n",
      "data/211209_NFAT-DAPI_basal_BSA_1_w1CF-488.tif\n"
     ]
    }
   ],
   "source": [
    "image_location = \"data//\"\n",
    "image_name = \"211209_NFAT-DAPI_basal_BSA_1_w1CF-488.tif\"\n",
    "\n",
    "impath = Path(image_location, image_name)\n",
    "print(impath.resolve())\n",
    "print(impath)"
   ]
  },
  {
   "cell_type": "code",
   "execution_count": 10,
   "outputs": [
    {
     "name": "stdout",
     "output_type": "stream",
     "text": [
      "data/20220127_C2-Klon_strong_100ms_mitOKT3_1_w2CF-640_bearb.tif\n",
      "data/211209_NFAT-DAPI_basal_BSA_1_w1CF-488.tif\n",
      "data/LH_roi.tif\n"
     ]
    }
   ],
   "source": [
    "rpath = Path(image_location)\n",
    "rpath2 = Path(image_location, image_name)\n",
    "for p in rpath.glob('*.tif*'):\n",
    "    print(p)"
   ],
   "metadata": {
    "collapsed": false,
    "pycharm": {
     "name": "#%%\n"
    }
   }
  },
  {
   "cell_type": "code",
   "execution_count": 12,
   "outputs": [
    {
     "data": {
      "text/plain": "'/Users/lwoelk/PycharmProjects/TDImageRestoration/data/211209_NFAT-DAPI_basal_BSA_1_w1CF-488.tif'"
     },
     "execution_count": 12,
     "metadata": {},
     "output_type": "execute_result"
    }
   ],
   "source": [
    "str(rpath2.resolve())"
   ],
   "metadata": {
    "collapsed": false,
    "pycharm": {
     "name": "#%%\n"
    }
   }
  },
  {
   "cell_type": "code",
   "execution_count": null,
   "outputs": [],
   "source": [
    "img = tf.imread(image_location)\n",
    "\n",
    "plot_data(img)"
   ],
   "metadata": {
    "collapsed": false,
    "pycharm": {
     "name": "#%%\n"
    }
   }
  },
  {
   "cell_type": "code",
   "execution_count": 19,
   "outputs": [
    {
     "name": "stdout",
     "output_type": "stream",
     "text": [
      "/Volumes/Data/lulu/Desktop/Deconvolution/TDEntropyDeconvolution-master/Test/⁩⁩/Zelle.tif\n",
      "'/Volumes/Data/lulu/Desktop/Deconvolution/TDEntropyDeconvolution-master/Test/\\u2069\\u2069/Zelle.tif'\n"
     ]
    }
   ],
   "source": [
    "tpath = '/Volumes/Data/lulu/Desktop/Deconvolution/TDEntropyDeconvolution-master/Test/\\u2069\\u2069/Zelle.tif'\n",
    "print(tpath)\n",
    "print(repr(tpath))"
   ],
   "metadata": {
    "collapsed": false,
    "pycharm": {
     "name": "#%%\n"
    }
   }
  },
  {
   "cell_type": "code",
   "execution_count": 20,
   "outputs": [
    {
     "name": "stdout",
     "output_type": "stream",
     "text": [
      "/Volumes/Data/lulu/Desktop/Deconvolution/TDEntropyDeconvolution-master/Test/⁩⁩/Zelle.tif\n",
      "'/Volumes/Data/lulu/Desktop/Deconvolution/TDEntropyDeconvolution-master/Test/\\u2069\\u2069/Zelle.tif'\n",
      "/Volumes/Data/lulu/Desktop/Deconvolution/TDEntropyDeconvolution-master/Test//Zelle.tif\n",
      "'/Volumes/Data/lulu/Desktop/Deconvolution/TDEntropyDeconvolution-master/Test//Zelle.tif'\n"
     ]
    }
   ],
   "source": [
    "from string import printable\n",
    "new_string = ''.join(char for char in tpath if char in printable)\n",
    "print(tpath)\n",
    "print(repr(tpath))\n",
    "print(new_string)\n",
    "print(repr(new_string))"
   ],
   "metadata": {
    "collapsed": false,
    "pycharm": {
     "name": "#%%\n"
    }
   }
  },
  {
   "cell_type": "code",
   "execution_count": 21,
   "outputs": [
    {
     "name": "stdout",
     "output_type": "stream",
     "text": [
      "(200, 303, 306)\n"
     ]
    }
   ],
   "source": [
    "a = np.zeros((200, 303, 306))\n",
    "print(a.shape)\n"
   ],
   "metadata": {
    "collapsed": false,
    "pycharm": {
     "name": "#%%\n"
    }
   }
  },
  {
   "cell_type": "code",
   "execution_count": 29,
   "outputs": [
    {
     "name": "stdout",
     "output_type": "stream",
     "text": [
      "(200, 303, 303)\n"
     ]
    }
   ],
   "source": [
    "minshape = np.min((a.shape[1], a.shape[2]))\n",
    "a = a[:, :minshape, :minshape]\n",
    "print(a.shape)"
   ],
   "metadata": {
    "collapsed": false,
    "pycharm": {
     "name": "#%%\n"
    }
   }
  },
  {
   "cell_type": "code",
   "execution_count": 23,
   "outputs": [
    {
     "ename": "NameError",
     "evalue": "name 'minshape' is not defined",
     "output_type": "error",
     "traceback": [
      "\u001B[0;31m---------------------------------------------------------------------------\u001B[0m",
      "\u001B[0;31mNameError\u001B[0m                                 Traceback (most recent call last)",
      "\u001B[0;32m/var/folders/t_/j5b5_r512j14zfz_dkhl_pm40000gn/T/ipykernel_10232/2529422761.py\u001B[0m in \u001B[0;36m<module>\u001B[0;34m\u001B[0m\n\u001B[0;32m----> 1\u001B[0;31m \u001B[0mprint\u001B[0m\u001B[0;34m(\u001B[0m\u001B[0mminshape\u001B[0m\u001B[0;34m)\u001B[0m\u001B[0;34m\u001B[0m\u001B[0;34m\u001B[0m\u001B[0m\n\u001B[0m\u001B[1;32m      2\u001B[0m \u001B[0;34m\u001B[0m\u001B[0m\n\u001B[1;32m      3\u001B[0m \u001B[0;34m\u001B[0m\u001B[0m\n",
      "\u001B[0;31mNameError\u001B[0m: name 'minshape' is not defined"
     ]
    }
   ],
   "source": [
    "print(minshape)\n",
    "\n"
   ],
   "metadata": {
    "collapsed": false,
    "pycharm": {
     "name": "#%%\n"
    }
   }
  },
  {
   "cell_type": "code",
   "execution_count": 27,
   "outputs": [
    {
     "data": {
      "text/plain": "303"
     },
     "execution_count": 27,
     "metadata": {},
     "output_type": "execute_result"
    }
   ],
   "source": [
    "np.min((a.shape[1], a.shape[2]))"
   ],
   "metadata": {
    "collapsed": false,
    "pycharm": {
     "name": "#%%\n"
    }
   }
  },
  {
   "cell_type": "code",
   "execution_count": 26,
   "outputs": [
    {
     "name": "stdout",
     "output_type": "stream",
     "text": [
      "306\n"
     ]
    }
   ],
   "source": [
    "print(a.shape[2])"
   ],
   "metadata": {
    "collapsed": false,
    "pycharm": {
     "name": "#%%\n"
    }
   }
  },
  {
   "cell_type": "code",
   "execution_count": null,
   "outputs": [],
   "source": [],
   "metadata": {
    "collapsed": false,
    "pycharm": {
     "name": "#%%\n"
    }
   }
  }
 ],
 "metadata": {
  "kernelspec": {
   "name": "pycharm-f0d58273",
   "language": "python",
   "display_name": "PyCharm (TDImageRestoration)"
  },
  "language_info": {
   "codemirror_mode": {
    "name": "ipython",
    "version": 3
   },
   "file_extension": ".py",
   "mimetype": "text/x-python",
   "name": "python",
   "nbconvert_exporter": "python",
   "pygments_lexer": "ipython3",
   "version": "3.9.7"
  }
 },
 "nbformat": 4,
 "nbformat_minor": 5
}